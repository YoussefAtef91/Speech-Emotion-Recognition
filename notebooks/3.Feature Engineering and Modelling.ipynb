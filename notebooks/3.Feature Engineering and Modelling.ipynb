{
 "cells": [
  {
   "cell_type": "code",
   "execution_count": 168,
   "id": "9c559e56-60f2-4fca-be61-e0f09771f0fe",
   "metadata": {},
   "outputs": [],
   "source": [
    "import pandas as pd\n",
    "import numpy as np\n",
    "import matplotlib.pyplot as plt\n",
    "import seaborn as sns\n",
    "import random\n",
    "import warnings\n",
    "warnings.simplefilter(\"ignore\")\n",
    "\n",
    "import librosa\n",
    "from sklearn.preprocessing import OneHotEncoder\n",
    "from sklearn.model_selection import train_test_split\n",
    "\n",
    "from tensorflow.keras import backend as K\n",
    "import tensorflow as tf\n",
    "tf.random.set_seed(30)\n",
    "\n",
    "from keras.models import Sequential, Model\n",
    "from keras.layers import Dense, GRU, LSTM, Flatten, TimeDistributed, Flatten, BatchNormalization, Activation\n",
    "from keras.layers import Conv3D, MaxPooling3D, Conv2D, MaxPooling2D, Conv1D, MaxPooling1D\n",
    "from keras.callbacks import ModelCheckpoint, ReduceLROnPlateau, EarlyStopping\n",
    "from keras import optimizers\n",
    "from keras.layers import Dropout\n",
    "\n",
    "from sklearn.metrics import classification_report, confusion_matrix"
   ]
  },
  {
   "cell_type": "code",
   "execution_count": 123,
   "id": "54b1a53b-9222-4f76-8ab4-6940d0f15b2c",
   "metadata": {},
   "outputs": [],
   "source": [
    "df = pd.read_parquet(\"../data/processed/audio_features.parquet\")"
   ]
  },
  {
   "cell_type": "markdown",
   "id": "02b69dec-39f2-4607-b1c6-65706a662044",
   "metadata": {},
   "source": [
    "## Feature Engineering"
   ]
  },
  {
   "cell_type": "code",
   "execution_count": 125,
   "id": "f9a65104-9f52-4344-88fd-e6a36cb0ea86",
   "metadata": {},
   "outputs": [],
   "source": [
    "path = df['filename'].iloc[0]\n",
    "data, sample_rate = librosa.load(path)"
   ]
  },
  {
   "cell_type": "code",
   "execution_count": 126,
   "id": "02bcef5f-8a29-4bdc-824f-3890939f3da9",
   "metadata": {},
   "outputs": [],
   "source": [
    "def noise(data):\n",
    "    noise_amp = 0.035*np.random.uniform()*np.amax(data)\n",
    "    data = data + noise_amp*np.random.normal(size=data.shape[0])\n",
    "    return data\n",
    "\n",
    "def stretch(data, rate=0.85):\n",
    "    return librosa.effects.time_stretch(data, rate)\n",
    "\n",
    "def shift(data):\n",
    "    shift_range = int(np.random.uniform(low=-5, high = 5)*1000)\n",
    "    return np.roll(data, shift_range)\n",
    "\n",
    "def apply_pitch_shift(data, sample_rate, pitch_factor=0.7):\n",
    "    return librosa.effects.pitch_shift(y=data, sr=sampling_rate, n_steps=pitch_factor)"
   ]
  },
  {
   "cell_type": "code",
   "execution_count": 127,
   "id": "18101738-da5f-41e9-94f3-5ef36c32c608",
   "metadata": {},
   "outputs": [],
   "source": [
    "def extract_features(data):\n",
    "    # MFCC\n",
    "    mfcc = librosa.feature.mfcc(y=data, sr=sample_rate)\n",
    "    result = mfcc\n",
    "    return result\n",
    "\n",
    "# funtion to transform audio\n",
    "def transform_audio(data, fns):\n",
    "    fn = random.choice(fns)\n",
    "    if fn == apply_pitch_shift:\n",
    "        fn_data = fn(data, sampling_rate)\n",
    "    elif fn == \"None\":\n",
    "        fn_data = data\n",
    "    elif fn in [noise, stretch]:\n",
    "        fn_data = fn(data)\n",
    "    else:\n",
    "        fn_data = data\n",
    "    return fn_data\n",
    "\n",
    "\n",
    "def get_features(path):\n",
    "    # duration and offset are used to take care of the no audio in start and the ending of each audio files as seen above.\n",
    "    data, sample_rate = librosa.load(path, duration=2.5, offset=0.6)\n",
    "\n",
    "\n",
    "    #randomly transforming audio data\n",
    "    fns = [noise, apply_pitch_shift, \"None\"]\n",
    "\n",
    "    fn1_data = transform_audio(data, fns)\n",
    "    fn2_data = transform_audio(fn1_data, fns)\n",
    "    res1 = extract_features(fn2_data)\n",
    "    result = [np.array(res1[:,:108])]\n",
    "\n",
    "    fn1_data = transform_audio(data, fns)\n",
    "    fn2_data = transform_audio(fn1_data, fns)\n",
    "    res2 = extract_features(fn2_data)[:,:108]\n",
    "    result.append(res2)\n",
    "\n",
    "    fn1_data = transform_audio(data, fns)\n",
    "    fn2_data = transform_audio(fn1_data, fns)\n",
    "    res3 = extract_features(fn2_data)[:,:108]\n",
    "    result.append(res3)\n",
    "\n",
    "    return result"
   ]
  },
  {
   "cell_type": "code",
   "execution_count": null,
   "id": "0899e50d-0861-4190-9392-dc3ae9f41163",
   "metadata": {},
   "outputs": [],
   "source": [
    "X, Y = [], []\n",
    "for path, emotion in zip(list(df['filename']), list(df['emotion'])):\n",
    "    feature = get_features(path)\n",
    "    for ele in feature:\n",
    "        if ele.shape == (20, 108):\n",
    "            X.append(ele)\n",
    "            Y.append(emotion)"
   ]
  },
  {
   "cell_type": "code",
   "execution_count": 133,
   "id": "911951f9-0ba3-4509-8fb7-639763cef32c",
   "metadata": {},
   "outputs": [],
   "source": [
    "dfm = pd.DataFrame()\n",
    "xx = pd.Series(X)\n",
    "for i in range(20):\n",
    "    dfm[i] = [k[i] for k in xx]"
   ]
  },
  {
   "cell_type": "code",
   "execution_count": 134,
   "id": "117e879b-f7cf-4f42-b33a-2c0ab1293df8",
   "metadata": {},
   "outputs": [
    {
     "data": {
      "text/html": [
       "<div>\n",
       "<style scoped>\n",
       "    .dataframe tbody tr th:only-of-type {\n",
       "        vertical-align: middle;\n",
       "    }\n",
       "\n",
       "    .dataframe tbody tr th {\n",
       "        vertical-align: top;\n",
       "    }\n",
       "\n",
       "    .dataframe thead th {\n",
       "        text-align: right;\n",
       "    }\n",
       "</style>\n",
       "<table border=\"1\" class=\"dataframe\">\n",
       "  <thead>\n",
       "    <tr style=\"text-align: right;\">\n",
       "      <th></th>\n",
       "      <th>0</th>\n",
       "      <th>1</th>\n",
       "      <th>2</th>\n",
       "      <th>3</th>\n",
       "      <th>4</th>\n",
       "      <th>5</th>\n",
       "      <th>6</th>\n",
       "      <th>7</th>\n",
       "      <th>8</th>\n",
       "      <th>9</th>\n",
       "      <th>...</th>\n",
       "      <th>11</th>\n",
       "      <th>12</th>\n",
       "      <th>13</th>\n",
       "      <th>14</th>\n",
       "      <th>15</th>\n",
       "      <th>16</th>\n",
       "      <th>17</th>\n",
       "      <th>18</th>\n",
       "      <th>19</th>\n",
       "      <th>labels</th>\n",
       "    </tr>\n",
       "  </thead>\n",
       "  <tbody>\n",
       "    <tr>\n",
       "      <th>0</th>\n",
       "      <td>[-782.3367, -772.8877, -749.4916, -708.55566, ...</td>\n",
       "      <td>[13.91177, 10.961353, -21.519993, -61.897984, ...</td>\n",
       "      <td>[12.279222, 22.54943, 40.53662, 49.383606, 46....</td>\n",
       "      <td>[10.11124, 6.2642164, -1.6117904, 3.688239, 6....</td>\n",
       "      <td>[7.9998703, 11.7753315, 11.626672, 8.248017, 1...</td>\n",
       "      <td>[6.411319, 2.4727736, 6.664854, 8.85792, 10.35...</td>\n",
       "      <td>[5.52915, 4.821377, 4.8849115, 7.1581097, 4.96...</td>\n",
       "      <td>[5.232438, 3.2913294, 6.704021, 8.278468, 7.78...</td>\n",
       "      <td>[5.2063775, 4.6718245, 6.724617, 8.548503, 9.0...</td>\n",
       "      <td>[5.121585, 6.6134586, 12.504795, 11.684286, 9....</td>\n",
       "      <td>...</td>\n",
       "      <td>[4.2354603, 8.798123, 13.390255, 19.428118, 20...</td>\n",
       "      <td>[3.628673, 7.8074646, 11.580785, 7.69829, 5.07...</td>\n",
       "      <td>[3.1770384, 9.196668, 6.634467, -1.8408215, -5...</td>\n",
       "      <td>[2.9901333, 6.6212454, 10.257727, 14.660955, 1...</td>\n",
       "      <td>[3.0190191, 8.657054, 9.259325, 11.518011, 13....</td>\n",
       "      <td>[3.0860763, 4.894247, -0.4061783, -3.992463, -...</td>\n",
       "      <td>[2.9834533, 6.7356825, 13.47933, 15.965122, 18...</td>\n",
       "      <td>[2.5817876, 3.1042588, -2.807207, 0.7524681, -...</td>\n",
       "      <td>[1.8909223, 3.2068818, 7.162657, 4.748251, 1.0...</td>\n",
       "      <td>surprised</td>\n",
       "    </tr>\n",
       "    <tr>\n",
       "      <th>1</th>\n",
       "      <td>[-503.17169467055317, -465.21156688045653, -47...</td>\n",
       "      <td>[-9.136052220992987, -1.3647464119345472, 1.48...</td>\n",
       "      <td>[-2.1739566925056053, -1.7861780505542593, -0....</td>\n",
       "      <td>[0.35347049479117054, 2.310857546213634, 0.013...</td>\n",
       "      <td>[-4.20964252745402, -3.516678512142744, -2.776...</td>\n",
       "      <td>[0.9808386208685441, 5.216006362109246, 5.6974...</td>\n",
       "      <td>[3.46012406536134, 6.017228174735319, 3.449710...</td>\n",
       "      <td>[5.33479752539505, 5.5589416687873525, 4.31125...</td>\n",
       "      <td>[-3.074502449289264, -1.447663929412352, 2.092...</td>\n",
       "      <td>[-4.866889145332835, -1.141857593096089, 0.374...</td>\n",
       "      <td>...</td>\n",
       "      <td>[2.922248465966759, 5.576704800170502, 4.20687...</td>\n",
       "      <td>[-0.3234915916676848, 0.913412318008026, -3.14...</td>\n",
       "      <td>[7.781672261676165, 2.67466092991844, -0.30559...</td>\n",
       "      <td>[4.5115258429726754, 0.0646836764196313, -1.26...</td>\n",
       "      <td>[1.7502429883749664, 2.17296473540439, 3.44621...</td>\n",
       "      <td>[-1.2280572628776267, 3.578431592192112, 3.484...</td>\n",
       "      <td>[9.11160653871457, 8.78579864464027, 4.2493467...</td>\n",
       "      <td>[-1.817402023328321, -3.0707941635860925, -1.4...</td>\n",
       "      <td>[-2.9517866504802956, -3.430127037010001, 0.02...</td>\n",
       "      <td>surprised</td>\n",
       "    </tr>\n",
       "    <tr>\n",
       "      <th>2</th>\n",
       "      <td>[-404.8118763525794, -363.55851698276217, -375...</td>\n",
       "      <td>[-5.115817850180672, 2.1452773015475435, 3.684...</td>\n",
       "      <td>[-4.868646495401062, -5.057389020990788, -5.15...</td>\n",
       "      <td>[3.723162823478912, 3.8559601937378356, 2.6635...</td>\n",
       "      <td>[-0.9169255687088826, 1.345066762115269, 0.641...</td>\n",
       "      <td>[2.995023072793219, 5.074558240484862, 4.09718...</td>\n",
       "      <td>[-0.46253362414747534, -1.5816587556493444, -3...</td>\n",
       "      <td>[6.21360325960744, -0.23893257930061268, -3.35...</td>\n",
       "      <td>[-0.4125131239791391, -2.2942036808590465, -2....</td>\n",
       "      <td>[-2.163773600281628, -4.608820545964717, -0.63...</td>\n",
       "      <td>...</td>\n",
       "      <td>[-0.6055931062594782, 3.307428953660441, 2.463...</td>\n",
       "      <td>[0.10784057395845625, 1.559834513040463, -0.56...</td>\n",
       "      <td>[3.2551021692594277, 6.008045125775164, 3.1251...</td>\n",
       "      <td>[0.17867572374647378, 1.878819506246313, -0.67...</td>\n",
       "      <td>[1.2282200768168814, 2.4591783271141416, 0.244...</td>\n",
       "      <td>[-0.5310001990795015, -3.255110572354109, -5.7...</td>\n",
       "      <td>[-1.610048874793141, -2.8191609994897755, -3.7...</td>\n",
       "      <td>[-5.840615002910647, -4.63228264411586, -1.374...</td>\n",
       "      <td>[1.2517757394537543, 3.837918175162708, 6.5308...</td>\n",
       "      <td>surprised</td>\n",
       "    </tr>\n",
       "    <tr>\n",
       "      <th>3</th>\n",
       "      <td>[-392.7907801826956, -358.2517171903305, -358....</td>\n",
       "      <td>[-0.026612916463395895, 0.017243124604067794, ...</td>\n",
       "      <td>[5.293595693764397, 2.651705380619768, -0.1845...</td>\n",
       "      <td>[-1.3600496597138938, 0.5902181041942435, -3.9...</td>\n",
       "      <td>[-3.529420056242028, -0.5758358878111882, 1.25...</td>\n",
       "      <td>[-1.8083782325524194, -0.738118666109976, 0.19...</td>\n",
       "      <td>[0.20363345084400403, 0.4339491351534522, -3.3...</td>\n",
       "      <td>[-3.559731450481569, -0.1562322824256563, 0.27...</td>\n",
       "      <td>[-4.802756335347523, 0.017621880321515904, 1.3...</td>\n",
       "      <td>[0.04399321925945676, -1.6897836185703041, -3....</td>\n",
       "      <td>...</td>\n",
       "      <td>[4.063895350051569, 4.022710516562099, 2.49578...</td>\n",
       "      <td>[-0.033261696602146396, 0.2465190297142963, 0....</td>\n",
       "      <td>[2.5527144750358115, -0.286866530346261, 1.937...</td>\n",
       "      <td>[4.312351457813975, -3.794174452901906, -2.139...</td>\n",
       "      <td>[2.9407231851060125, -0.61134778282609, 1.2904...</td>\n",
       "      <td>[-1.707866638161781, -1.8461248272987079, 1.92...</td>\n",
       "      <td>[0.5568707878406337, -0.3508582496008108, 3.02...</td>\n",
       "      <td>[8.384451309233864, 5.694752216674363, 3.67402...</td>\n",
       "      <td>[8.082954905596216, 4.948315755010054, 1.93940...</td>\n",
       "      <td>fearful</td>\n",
       "    </tr>\n",
       "    <tr>\n",
       "      <th>4</th>\n",
       "      <td>[-407.12987009707626, -371.71290554518964, -37...</td>\n",
       "      <td>[-4.055400222399372, -0.5919456366334942, -3.1...</td>\n",
       "      <td>[4.01105187194373, 6.279687618468568, 1.110194...</td>\n",
       "      <td>[3.3314503729041163, 5.643734853863274, -1.984...</td>\n",
       "      <td>[2.854172018464629, 2.4860156254737276, -0.439...</td>\n",
       "      <td>[0.24029304290103604, -2.3969727354252357, -2....</td>\n",
       "      <td>[-1.0648536925235348, -2.073451260409808, -1.1...</td>\n",
       "      <td>[-4.7559990468968065, -5.836062818299007, -0.4...</td>\n",
       "      <td>[2.1826940351081303, -3.7708603964598915, -0.7...</td>\n",
       "      <td>[4.802718731364399, 2.5045961463460236, 3.4833...</td>\n",
       "      <td>...</td>\n",
       "      <td>[-0.26382018391413997, 0.5019532974326463, 1.0...</td>\n",
       "      <td>[-6.932967920645312, -7.423922297280814, -8.09...</td>\n",
       "      <td>[-8.030807979878926, -3.59521111442029, -3.188...</td>\n",
       "      <td>[2.5650365464298983, -1.3897085887046021, -0.4...</td>\n",
       "      <td>[5.780728182033068, 0.6026664746523801, -4.646...</td>\n",
       "      <td>[-4.763567811210855, -4.45138118466612, -4.900...</td>\n",
       "      <td>[-5.718862485008904, -4.53226167916531, -2.689...</td>\n",
       "      <td>[-0.7468238219107538, -1.641266771028629, -2.2...</td>\n",
       "      <td>[1.0028297340237629, 2.717452345404143, 5.4773...</td>\n",
       "      <td>fearful</td>\n",
       "    </tr>\n",
       "  </tbody>\n",
       "</table>\n",
       "<p>5 rows × 21 columns</p>\n",
       "</div>"
      ],
      "text/plain": [
       "                                                   0  \\\n",
       "0  [-782.3367, -772.8877, -749.4916, -708.55566, ...   \n",
       "1  [-503.17169467055317, -465.21156688045653, -47...   \n",
       "2  [-404.8118763525794, -363.55851698276217, -375...   \n",
       "3  [-392.7907801826956, -358.2517171903305, -358....   \n",
       "4  [-407.12987009707626, -371.71290554518964, -37...   \n",
       "\n",
       "                                                   1  \\\n",
       "0  [13.91177, 10.961353, -21.519993, -61.897984, ...   \n",
       "1  [-9.136052220992987, -1.3647464119345472, 1.48...   \n",
       "2  [-5.115817850180672, 2.1452773015475435, 3.684...   \n",
       "3  [-0.026612916463395895, 0.017243124604067794, ...   \n",
       "4  [-4.055400222399372, -0.5919456366334942, -3.1...   \n",
       "\n",
       "                                                   2  \\\n",
       "0  [12.279222, 22.54943, 40.53662, 49.383606, 46....   \n",
       "1  [-2.1739566925056053, -1.7861780505542593, -0....   \n",
       "2  [-4.868646495401062, -5.057389020990788, -5.15...   \n",
       "3  [5.293595693764397, 2.651705380619768, -0.1845...   \n",
       "4  [4.01105187194373, 6.279687618468568, 1.110194...   \n",
       "\n",
       "                                                   3  \\\n",
       "0  [10.11124, 6.2642164, -1.6117904, 3.688239, 6....   \n",
       "1  [0.35347049479117054, 2.310857546213634, 0.013...   \n",
       "2  [3.723162823478912, 3.8559601937378356, 2.6635...   \n",
       "3  [-1.3600496597138938, 0.5902181041942435, -3.9...   \n",
       "4  [3.3314503729041163, 5.643734853863274, -1.984...   \n",
       "\n",
       "                                                   4  \\\n",
       "0  [7.9998703, 11.7753315, 11.626672, 8.248017, 1...   \n",
       "1  [-4.20964252745402, -3.516678512142744, -2.776...   \n",
       "2  [-0.9169255687088826, 1.345066762115269, 0.641...   \n",
       "3  [-3.529420056242028, -0.5758358878111882, 1.25...   \n",
       "4  [2.854172018464629, 2.4860156254737276, -0.439...   \n",
       "\n",
       "                                                   5  \\\n",
       "0  [6.411319, 2.4727736, 6.664854, 8.85792, 10.35...   \n",
       "1  [0.9808386208685441, 5.216006362109246, 5.6974...   \n",
       "2  [2.995023072793219, 5.074558240484862, 4.09718...   \n",
       "3  [-1.8083782325524194, -0.738118666109976, 0.19...   \n",
       "4  [0.24029304290103604, -2.3969727354252357, -2....   \n",
       "\n",
       "                                                   6  \\\n",
       "0  [5.52915, 4.821377, 4.8849115, 7.1581097, 4.96...   \n",
       "1  [3.46012406536134, 6.017228174735319, 3.449710...   \n",
       "2  [-0.46253362414747534, -1.5816587556493444, -3...   \n",
       "3  [0.20363345084400403, 0.4339491351534522, -3.3...   \n",
       "4  [-1.0648536925235348, -2.073451260409808, -1.1...   \n",
       "\n",
       "                                                   7  \\\n",
       "0  [5.232438, 3.2913294, 6.704021, 8.278468, 7.78...   \n",
       "1  [5.33479752539505, 5.5589416687873525, 4.31125...   \n",
       "2  [6.21360325960744, -0.23893257930061268, -3.35...   \n",
       "3  [-3.559731450481569, -0.1562322824256563, 0.27...   \n",
       "4  [-4.7559990468968065, -5.836062818299007, -0.4...   \n",
       "\n",
       "                                                   8  \\\n",
       "0  [5.2063775, 4.6718245, 6.724617, 8.548503, 9.0...   \n",
       "1  [-3.074502449289264, -1.447663929412352, 2.092...   \n",
       "2  [-0.4125131239791391, -2.2942036808590465, -2....   \n",
       "3  [-4.802756335347523, 0.017621880321515904, 1.3...   \n",
       "4  [2.1826940351081303, -3.7708603964598915, -0.7...   \n",
       "\n",
       "                                                   9  ...  \\\n",
       "0  [5.121585, 6.6134586, 12.504795, 11.684286, 9....  ...   \n",
       "1  [-4.866889145332835, -1.141857593096089, 0.374...  ...   \n",
       "2  [-2.163773600281628, -4.608820545964717, -0.63...  ...   \n",
       "3  [0.04399321925945676, -1.6897836185703041, -3....  ...   \n",
       "4  [4.802718731364399, 2.5045961463460236, 3.4833...  ...   \n",
       "\n",
       "                                                  11  \\\n",
       "0  [4.2354603, 8.798123, 13.390255, 19.428118, 20...   \n",
       "1  [2.922248465966759, 5.576704800170502, 4.20687...   \n",
       "2  [-0.6055931062594782, 3.307428953660441, 2.463...   \n",
       "3  [4.063895350051569, 4.022710516562099, 2.49578...   \n",
       "4  [-0.26382018391413997, 0.5019532974326463, 1.0...   \n",
       "\n",
       "                                                  12  \\\n",
       "0  [3.628673, 7.8074646, 11.580785, 7.69829, 5.07...   \n",
       "1  [-0.3234915916676848, 0.913412318008026, -3.14...   \n",
       "2  [0.10784057395845625, 1.559834513040463, -0.56...   \n",
       "3  [-0.033261696602146396, 0.2465190297142963, 0....   \n",
       "4  [-6.932967920645312, -7.423922297280814, -8.09...   \n",
       "\n",
       "                                                  13  \\\n",
       "0  [3.1770384, 9.196668, 6.634467, -1.8408215, -5...   \n",
       "1  [7.781672261676165, 2.67466092991844, -0.30559...   \n",
       "2  [3.2551021692594277, 6.008045125775164, 3.1251...   \n",
       "3  [2.5527144750358115, -0.286866530346261, 1.937...   \n",
       "4  [-8.030807979878926, -3.59521111442029, -3.188...   \n",
       "\n",
       "                                                  14  \\\n",
       "0  [2.9901333, 6.6212454, 10.257727, 14.660955, 1...   \n",
       "1  [4.5115258429726754, 0.0646836764196313, -1.26...   \n",
       "2  [0.17867572374647378, 1.878819506246313, -0.67...   \n",
       "3  [4.312351457813975, -3.794174452901906, -2.139...   \n",
       "4  [2.5650365464298983, -1.3897085887046021, -0.4...   \n",
       "\n",
       "                                                  15  \\\n",
       "0  [3.0190191, 8.657054, 9.259325, 11.518011, 13....   \n",
       "1  [1.7502429883749664, 2.17296473540439, 3.44621...   \n",
       "2  [1.2282200768168814, 2.4591783271141416, 0.244...   \n",
       "3  [2.9407231851060125, -0.61134778282609, 1.2904...   \n",
       "4  [5.780728182033068, 0.6026664746523801, -4.646...   \n",
       "\n",
       "                                                  16  \\\n",
       "0  [3.0860763, 4.894247, -0.4061783, -3.992463, -...   \n",
       "1  [-1.2280572628776267, 3.578431592192112, 3.484...   \n",
       "2  [-0.5310001990795015, -3.255110572354109, -5.7...   \n",
       "3  [-1.707866638161781, -1.8461248272987079, 1.92...   \n",
       "4  [-4.763567811210855, -4.45138118466612, -4.900...   \n",
       "\n",
       "                                                  17  \\\n",
       "0  [2.9834533, 6.7356825, 13.47933, 15.965122, 18...   \n",
       "1  [9.11160653871457, 8.78579864464027, 4.2493467...   \n",
       "2  [-1.610048874793141, -2.8191609994897755, -3.7...   \n",
       "3  [0.5568707878406337, -0.3508582496008108, 3.02...   \n",
       "4  [-5.718862485008904, -4.53226167916531, -2.689...   \n",
       "\n",
       "                                                  18  \\\n",
       "0  [2.5817876, 3.1042588, -2.807207, 0.7524681, -...   \n",
       "1  [-1.817402023328321, -3.0707941635860925, -1.4...   \n",
       "2  [-5.840615002910647, -4.63228264411586, -1.374...   \n",
       "3  [8.384451309233864, 5.694752216674363, 3.67402...   \n",
       "4  [-0.7468238219107538, -1.641266771028629, -2.2...   \n",
       "\n",
       "                                                  19     labels  \n",
       "0  [1.8909223, 3.2068818, 7.162657, 4.748251, 1.0...  surprised  \n",
       "1  [-2.9517866504802956, -3.430127037010001, 0.02...  surprised  \n",
       "2  [1.2517757394537543, 3.837918175162708, 6.5308...  surprised  \n",
       "3  [8.082954905596216, 4.948315755010054, 1.93940...    fearful  \n",
       "4  [1.0028297340237629, 2.717452345404143, 5.4773...    fearful  \n",
       "\n",
       "[5 rows x 21 columns]"
      ]
     },
     "execution_count": 134,
     "metadata": {},
     "output_type": "execute_result"
    }
   ],
   "source": [
    "Features = dfm.copy()\n",
    "Features['labels'] = Y\n",
    "Features.head()"
   ]
  },
  {
   "cell_type": "code",
   "execution_count": 135,
   "id": "081f2d16-b0a4-4e1c-acd9-00f7f513f2c1",
   "metadata": {},
   "outputs": [
    {
     "data": {
      "text/plain": [
       "((4275, 20, 108), (4275,))"
      ]
     },
     "execution_count": 135,
     "metadata": {},
     "output_type": "execute_result"
    }
   ],
   "source": [
    "X = np.array(X)\n",
    "Y = np.array(Y)\n",
    "X.shape, Y.shape"
   ]
  },
  {
   "cell_type": "markdown",
   "id": "e92c78ba-f01f-4afe-89a7-e8ca0065c1f9",
   "metadata": {},
   "source": [
    "## Encoding"
   ]
  },
  {
   "cell_type": "code",
   "execution_count": 136,
   "id": "569ae9d9-e4f6-4742-ac5a-eb617c3b8228",
   "metadata": {},
   "outputs": [],
   "source": [
    "encoder = OneHotEncoder()\n",
    "Y = encoder.fit_transform(np.array(Y).reshape(-1,1)).toarray()"
   ]
  },
  {
   "cell_type": "markdown",
   "id": "d270a832-ae98-47f6-98ef-aac7560f10ff",
   "metadata": {},
   "source": [
    "## Train Test Split"
   ]
  },
  {
   "cell_type": "code",
   "execution_count": 137,
   "id": "1bc89605-64f2-4ae7-beb0-ea47524f91b6",
   "metadata": {},
   "outputs": [
    {
     "data": {
      "text/plain": [
       "((3420, 20, 108), (3420, 8), (855, 20, 108), (855, 8))"
      ]
     },
     "execution_count": 137,
     "metadata": {},
     "output_type": "execute_result"
    }
   ],
   "source": [
    "x_train, x_test, y_train, y_test = train_test_split(X, Y, test_size=0.2, random_state=21, shuffle=True)\n",
    "x_train.shape, y_train.shape, x_test.shape, y_test.shape"
   ]
  },
  {
   "cell_type": "code",
   "execution_count": 138,
   "id": "492205df-52d8-493b-9756-0149aa5011e6",
   "metadata": {},
   "outputs": [
    {
     "data": {
      "text/plain": [
       "((3420, 108, 20, 1, 1), (3420, 8), (855, 108, 20, 1, 1), (855, 8))"
      ]
     },
     "execution_count": 138,
     "metadata": {},
     "output_type": "execute_result"
    }
   ],
   "source": [
    "x_train = np.expand_dims(x_train, axis=3)\n",
    "x_train = np.swapaxes(x_train, 1, 2)\n",
    "x_train = np.expand_dims(x_train, axis=3)\n",
    "\n",
    "x_test = np.expand_dims(x_test, axis=3)\n",
    "x_test = np.swapaxes(x_test, 1, 2)\n",
    "x_test = np.expand_dims(x_test, axis=3)\n",
    "\n",
    "x_train.shape, y_train.shape, x_test.shape, y_test.shape"
   ]
  },
  {
   "cell_type": "code",
   "execution_count": 139,
   "id": "de3acbf5-1f70-46c3-9eb4-b214937dadde",
   "metadata": {},
   "outputs": [
    {
     "data": {
      "text/plain": [
       "(108, 20, 1, 1)"
      ]
     },
     "execution_count": 139,
     "metadata": {},
     "output_type": "execute_result"
    }
   ],
   "source": [
    "input_shape = x_train.shape[1:]\n",
    "input_shape"
   ]
  },
  {
   "cell_type": "code",
   "execution_count": 140,
   "id": "01082f57-d652-43f0-8d8a-bf9faf8af533",
   "metadata": {},
   "outputs": [],
   "source": [
    "x_train = x_train.reshape((-1, 108, 20, 1))\n",
    "x_test = x_test.reshape((-1, 108, 20, 1))"
   ]
  },
  {
   "cell_type": "markdown",
   "id": "e9854117-6834-4e5c-b8dd-4a42f476a816",
   "metadata": {},
   "source": [
    "## Modelling"
   ]
  },
  {
   "cell_type": "code",
   "execution_count": 144,
   "id": "c1a48f35-8ce9-440e-80c9-0dde40c251e0",
   "metadata": {},
   "outputs": [
    {
     "data": {
      "text/html": [
       "<pre style=\"white-space:pre;overflow-x:auto;line-height:normal;font-family:Menlo,'DejaVu Sans Mono',consolas,'Courier New',monospace\"><span style=\"font-weight: bold\">Model: \"sequential_15\"</span>\n",
       "</pre>\n"
      ],
      "text/plain": [
       "\u001b[1mModel: \"sequential_15\"\u001b[0m\n"
      ]
     },
     "metadata": {},
     "output_type": "display_data"
    },
    {
     "data": {
      "text/html": [
       "<pre style=\"white-space:pre;overflow-x:auto;line-height:normal;font-family:Menlo,'DejaVu Sans Mono',consolas,'Courier New',monospace\">┏━━━━━━━━━━━━━━━━━━━━━━━━━━━━━━━━━┳━━━━━━━━━━━━━━━━━━━━━━━━┳━━━━━━━━━━━━━━━┓\n",
       "┃<span style=\"font-weight: bold\"> Layer (type)                    </span>┃<span style=\"font-weight: bold\"> Output Shape           </span>┃<span style=\"font-weight: bold\">       Param # </span>┃\n",
       "┡━━━━━━━━━━━━━━━━━━━━━━━━━━━━━━━━━╇━━━━━━━━━━━━━━━━━━━━━━━━╇━━━━━━━━━━━━━━━┩\n",
       "│ time_distributed_42             │ ?                      │   <span style=\"color: #00af00; text-decoration-color: #00af00\">0</span> (unbuilt) │\n",
       "│ (<span style=\"color: #0087ff; text-decoration-color: #0087ff\">TimeDistributed</span>)               │                        │               │\n",
       "├─────────────────────────────────┼────────────────────────┼───────────────┤\n",
       "│ time_distributed_43             │ ?                      │   <span style=\"color: #00af00; text-decoration-color: #00af00\">0</span> (unbuilt) │\n",
       "│ (<span style=\"color: #0087ff; text-decoration-color: #0087ff\">TimeDistributed</span>)               │                        │               │\n",
       "├─────────────────────────────────┼────────────────────────┼───────────────┤\n",
       "│ time_distributed_44             │ ?                      │   <span style=\"color: #00af00; text-decoration-color: #00af00\">0</span> (unbuilt) │\n",
       "│ (<span style=\"color: #0087ff; text-decoration-color: #0087ff\">TimeDistributed</span>)               │                        │               │\n",
       "├─────────────────────────────────┼────────────────────────┼───────────────┤\n",
       "│ lstm_15 (<span style=\"color: #0087ff; text-decoration-color: #0087ff\">LSTM</span>)                  │ ?                      │   <span style=\"color: #00af00; text-decoration-color: #00af00\">0</span> (unbuilt) │\n",
       "├─────────────────────────────────┼────────────────────────┼───────────────┤\n",
       "│ dropout_29 (<span style=\"color: #0087ff; text-decoration-color: #0087ff\">Dropout</span>)            │ ?                      │             <span style=\"color: #00af00; text-decoration-color: #00af00\">0</span> │\n",
       "├─────────────────────────────────┼────────────────────────┼───────────────┤\n",
       "│ dense_28 (<span style=\"color: #0087ff; text-decoration-color: #0087ff\">Dense</span>)                │ ?                      │   <span style=\"color: #00af00; text-decoration-color: #00af00\">0</span> (unbuilt) │\n",
       "├─────────────────────────────────┼────────────────────────┼───────────────┤\n",
       "│ dropout_30 (<span style=\"color: #0087ff; text-decoration-color: #0087ff\">Dropout</span>)            │ ?                      │             <span style=\"color: #00af00; text-decoration-color: #00af00\">0</span> │\n",
       "├─────────────────────────────────┼────────────────────────┼───────────────┤\n",
       "│ dense_29 (<span style=\"color: #0087ff; text-decoration-color: #0087ff\">Dense</span>)                │ ?                      │   <span style=\"color: #00af00; text-decoration-color: #00af00\">0</span> (unbuilt) │\n",
       "└─────────────────────────────────┴────────────────────────┴───────────────┘\n",
       "</pre>\n"
      ],
      "text/plain": [
       "┏━━━━━━━━━━━━━━━━━━━━━━━━━━━━━━━━━┳━━━━━━━━━━━━━━━━━━━━━━━━┳━━━━━━━━━━━━━━━┓\n",
       "┃\u001b[1m \u001b[0m\u001b[1mLayer (type)                   \u001b[0m\u001b[1m \u001b[0m┃\u001b[1m \u001b[0m\u001b[1mOutput Shape          \u001b[0m\u001b[1m \u001b[0m┃\u001b[1m \u001b[0m\u001b[1m      Param #\u001b[0m\u001b[1m \u001b[0m┃\n",
       "┡━━━━━━━━━━━━━━━━━━━━━━━━━━━━━━━━━╇━━━━━━━━━━━━━━━━━━━━━━━━╇━━━━━━━━━━━━━━━┩\n",
       "│ time_distributed_42             │ ?                      │   \u001b[38;5;34m0\u001b[0m (unbuilt) │\n",
       "│ (\u001b[38;5;33mTimeDistributed\u001b[0m)               │                        │               │\n",
       "├─────────────────────────────────┼────────────────────────┼───────────────┤\n",
       "│ time_distributed_43             │ ?                      │   \u001b[38;5;34m0\u001b[0m (unbuilt) │\n",
       "│ (\u001b[38;5;33mTimeDistributed\u001b[0m)               │                        │               │\n",
       "├─────────────────────────────────┼────────────────────────┼───────────────┤\n",
       "│ time_distributed_44             │ ?                      │   \u001b[38;5;34m0\u001b[0m (unbuilt) │\n",
       "│ (\u001b[38;5;33mTimeDistributed\u001b[0m)               │                        │               │\n",
       "├─────────────────────────────────┼────────────────────────┼───────────────┤\n",
       "│ lstm_15 (\u001b[38;5;33mLSTM\u001b[0m)                  │ ?                      │   \u001b[38;5;34m0\u001b[0m (unbuilt) │\n",
       "├─────────────────────────────────┼────────────────────────┼───────────────┤\n",
       "│ dropout_29 (\u001b[38;5;33mDropout\u001b[0m)            │ ?                      │             \u001b[38;5;34m0\u001b[0m │\n",
       "├─────────────────────────────────┼────────────────────────┼───────────────┤\n",
       "│ dense_28 (\u001b[38;5;33mDense\u001b[0m)                │ ?                      │   \u001b[38;5;34m0\u001b[0m (unbuilt) │\n",
       "├─────────────────────────────────┼────────────────────────┼───────────────┤\n",
       "│ dropout_30 (\u001b[38;5;33mDropout\u001b[0m)            │ ?                      │             \u001b[38;5;34m0\u001b[0m │\n",
       "├─────────────────────────────────┼────────────────────────┼───────────────┤\n",
       "│ dense_29 (\u001b[38;5;33mDense\u001b[0m)                │ ?                      │   \u001b[38;5;34m0\u001b[0m (unbuilt) │\n",
       "└─────────────────────────────────┴────────────────────────┴───────────────┘\n"
      ]
     },
     "metadata": {},
     "output_type": "display_data"
    },
    {
     "data": {
      "text/html": [
       "<pre style=\"white-space:pre;overflow-x:auto;line-height:normal;font-family:Menlo,'DejaVu Sans Mono',consolas,'Courier New',monospace\"><span style=\"font-weight: bold\"> Total params: </span><span style=\"color: #00af00; text-decoration-color: #00af00\">0</span> (0.00 B)\n",
       "</pre>\n"
      ],
      "text/plain": [
       "\u001b[1m Total params: \u001b[0m\u001b[38;5;34m0\u001b[0m (0.00 B)\n"
      ]
     },
     "metadata": {},
     "output_type": "display_data"
    },
    {
     "data": {
      "text/html": [
       "<pre style=\"white-space:pre;overflow-x:auto;line-height:normal;font-family:Menlo,'DejaVu Sans Mono',consolas,'Courier New',monospace\"><span style=\"font-weight: bold\"> Trainable params: </span><span style=\"color: #00af00; text-decoration-color: #00af00\">0</span> (0.00 B)\n",
       "</pre>\n"
      ],
      "text/plain": [
       "\u001b[1m Trainable params: \u001b[0m\u001b[38;5;34m0\u001b[0m (0.00 B)\n"
      ]
     },
     "metadata": {},
     "output_type": "display_data"
    },
    {
     "data": {
      "text/html": [
       "<pre style=\"white-space:pre;overflow-x:auto;line-height:normal;font-family:Menlo,'DejaVu Sans Mono',consolas,'Courier New',monospace\"><span style=\"font-weight: bold\"> Non-trainable params: </span><span style=\"color: #00af00; text-decoration-color: #00af00\">0</span> (0.00 B)\n",
       "</pre>\n"
      ],
      "text/plain": [
       "\u001b[1m Non-trainable params: \u001b[0m\u001b[38;5;34m0\u001b[0m (0.00 B)\n"
      ]
     },
     "metadata": {},
     "output_type": "display_data"
    }
   ],
   "source": [
    "model=Sequential()\n",
    "\n",
    "model.add(TimeDistributed(Conv1D(16, 3, padding='same', activation='relu')))\n",
    "model.add(TimeDistributed(BatchNormalization()))\n",
    "\n",
    "model.add(TimeDistributed(Flatten()))\n",
    "\n",
    "model.add(LSTM(32))\n",
    "model.add(Dropout(0.2))\n",
    "\n",
    "model.add(Dense(units=32, activation='relu'))\n",
    "model.add(Dropout(0.2))\n",
    "\n",
    "model.add(Dense(units=8, activation='softmax'))\n",
    "\n",
    "model.summary()"
   ]
  },
  {
   "cell_type": "code",
   "execution_count": 145,
   "id": "506d024a-15f9-484a-8bff-5bf962de1ee1",
   "metadata": {},
   "outputs": [
    {
     "name": "stdout",
     "output_type": "stream",
     "text": [
      "Epoch 1/100\n",
      "\u001b[1m54/54\u001b[0m \u001b[32m━━━━━━━━━━━━━━━━━━━━\u001b[0m\u001b[37m\u001b[0m \u001b[1m44s\u001b[0m 201ms/step - accuracy: 0.1608 - loss: 2.0924 - val_accuracy: 0.2421 - val_loss: 2.0016 - learning_rate: 0.0010\n",
      "Epoch 2/100\n",
      "\u001b[1m54/54\u001b[0m \u001b[32m━━━━━━━━━━━━━━━━━━━━\u001b[0m\u001b[37m\u001b[0m \u001b[1m5s\u001b[0m 91ms/step - accuracy: 0.2204 - loss: 1.9721 - val_accuracy: 0.2936 - val_loss: 1.8968 - learning_rate: 0.0010\n",
      "Epoch 3/100\n",
      "\u001b[1m54/54\u001b[0m \u001b[32m━━━━━━━━━━━━━━━━━━━━\u001b[0m\u001b[37m\u001b[0m \u001b[1m5s\u001b[0m 91ms/step - accuracy: 0.2647 - loss: 1.8678 - val_accuracy: 0.3205 - val_loss: 1.7144 - learning_rate: 0.0010\n",
      "Epoch 4/100\n",
      "\u001b[1m54/54\u001b[0m \u001b[32m━━━━━━━━━━━━━━━━━━━━\u001b[0m\u001b[37m\u001b[0m \u001b[1m5s\u001b[0m 91ms/step - accuracy: 0.3264 - loss: 1.7206 - val_accuracy: 0.3696 - val_loss: 1.6219 - learning_rate: 0.0010\n",
      "Epoch 5/100\n",
      "\u001b[1m54/54\u001b[0m \u001b[32m━━━━━━━━━━━━━━━━━━━━\u001b[0m\u001b[37m\u001b[0m \u001b[1m5s\u001b[0m 91ms/step - accuracy: 0.3611 - loss: 1.6491 - val_accuracy: 0.4140 - val_loss: 1.5446 - learning_rate: 0.0010\n",
      "Epoch 6/100\n",
      "\u001b[1m54/54\u001b[0m \u001b[32m━━━━━━━━━━━━━━━━━━━━\u001b[0m\u001b[37m\u001b[0m \u001b[1m5s\u001b[0m 93ms/step - accuracy: 0.4098 - loss: 1.5521 - val_accuracy: 0.4608 - val_loss: 1.4778 - learning_rate: 0.0010\n",
      "Epoch 7/100\n",
      "\u001b[1m54/54\u001b[0m \u001b[32m━━━━━━━━━━━━━━━━━━━━\u001b[0m\u001b[37m\u001b[0m \u001b[1m5s\u001b[0m 90ms/step - accuracy: 0.4505 - loss: 1.4709 - val_accuracy: 0.4854 - val_loss: 1.4083 - learning_rate: 0.0010\n",
      "Epoch 8/100\n",
      "\u001b[1m54/54\u001b[0m \u001b[32m━━━━━━━━━━━━━━━━━━━━\u001b[0m\u001b[37m\u001b[0m \u001b[1m5s\u001b[0m 90ms/step - accuracy: 0.4762 - loss: 1.4269 - val_accuracy: 0.5123 - val_loss: 1.3386 - learning_rate: 0.0010\n",
      "Epoch 9/100\n",
      "\u001b[1m54/54\u001b[0m \u001b[32m━━━━━━━━━━━━━━━━━━━━\u001b[0m\u001b[37m\u001b[0m \u001b[1m5s\u001b[0m 91ms/step - accuracy: 0.4824 - loss: 1.3467 - val_accuracy: 0.5193 - val_loss: 1.2926 - learning_rate: 0.0010\n",
      "Epoch 10/100\n",
      "\u001b[1m54/54\u001b[0m \u001b[32m━━━━━━━━━━━━━━━━━━━━\u001b[0m\u001b[37m\u001b[0m \u001b[1m5s\u001b[0m 90ms/step - accuracy: 0.5266 - loss: 1.2732 - val_accuracy: 0.5368 - val_loss: 1.2493 - learning_rate: 0.0010\n",
      "Epoch 11/100\n",
      "\u001b[1m54/54\u001b[0m \u001b[32m━━━━━━━━━━━━━━━━━━━━\u001b[0m\u001b[37m\u001b[0m \u001b[1m5s\u001b[0m 91ms/step - accuracy: 0.5493 - loss: 1.2351 - val_accuracy: 0.5380 - val_loss: 1.2053 - learning_rate: 0.0010\n",
      "Epoch 12/100\n",
      "\u001b[1m54/54\u001b[0m \u001b[32m━━━━━━━━━━━━━━━━━━━━\u001b[0m\u001b[37m\u001b[0m \u001b[1m5s\u001b[0m 91ms/step - accuracy: 0.5494 - loss: 1.2037 - val_accuracy: 0.5509 - val_loss: 1.1716 - learning_rate: 0.0010\n",
      "Epoch 13/100\n",
      "\u001b[1m54/54\u001b[0m \u001b[32m━━━━━━━━━━━━━━━━━━━━\u001b[0m\u001b[37m\u001b[0m \u001b[1m5s\u001b[0m 90ms/step - accuracy: 0.5774 - loss: 1.1356 - val_accuracy: 0.5532 - val_loss: 1.1993 - learning_rate: 0.0010\n",
      "Epoch 14/100\n",
      "\u001b[1m54/54\u001b[0m \u001b[32m━━━━━━━━━━━━━━━━━━━━\u001b[0m\u001b[37m\u001b[0m \u001b[1m5s\u001b[0m 92ms/step - accuracy: 0.5949 - loss: 1.0945 - val_accuracy: 0.5965 - val_loss: 1.0962 - learning_rate: 0.0010\n",
      "Epoch 15/100\n",
      "\u001b[1m54/54\u001b[0m \u001b[32m━━━━━━━━━━━━━━━━━━━━\u001b[0m\u001b[37m\u001b[0m \u001b[1m5s\u001b[0m 91ms/step - accuracy: 0.6116 - loss: 1.0419 - val_accuracy: 0.6082 - val_loss: 1.1202 - learning_rate: 0.0010\n",
      "Epoch 16/100\n",
      "\u001b[1m54/54\u001b[0m \u001b[32m━━━━━━━━━━━━━━━━━━━━\u001b[0m\u001b[37m\u001b[0m \u001b[1m5s\u001b[0m 92ms/step - accuracy: 0.6205 - loss: 1.0553 - val_accuracy: 0.6117 - val_loss: 1.0371 - learning_rate: 0.0010\n",
      "Epoch 17/100\n",
      "\u001b[1m54/54\u001b[0m \u001b[32m━━━━━━━━━━━━━━━━━━━━\u001b[0m\u001b[37m\u001b[0m \u001b[1m5s\u001b[0m 92ms/step - accuracy: 0.6336 - loss: 1.0071 - val_accuracy: 0.6444 - val_loss: 1.0200 - learning_rate: 0.0010\n",
      "Epoch 18/100\n",
      "\u001b[1m54/54\u001b[0m \u001b[32m━━━━━━━━━━━━━━━━━━━━\u001b[0m\u001b[37m\u001b[0m \u001b[1m5s\u001b[0m 91ms/step - accuracy: 0.6649 - loss: 0.9357 - val_accuracy: 0.6468 - val_loss: 0.9696 - learning_rate: 0.0010\n",
      "Epoch 19/100\n",
      "\u001b[1m54/54\u001b[0m \u001b[32m━━━━━━━━━━━━━━━━━━━━\u001b[0m\u001b[37m\u001b[0m \u001b[1m5s\u001b[0m 94ms/step - accuracy: 0.6845 - loss: 0.8899 - val_accuracy: 0.6480 - val_loss: 0.9809 - learning_rate: 0.0010\n",
      "Epoch 20/100\n",
      "\u001b[1m54/54\u001b[0m \u001b[32m━━━━━━━━━━━━━━━━━━━━\u001b[0m\u001b[37m\u001b[0m \u001b[1m5s\u001b[0m 92ms/step - accuracy: 0.6702 - loss: 0.8826 - val_accuracy: 0.6772 - val_loss: 0.9311 - learning_rate: 0.0010\n",
      "Epoch 21/100\n",
      "\u001b[1m54/54\u001b[0m \u001b[32m━━━━━━━━━━━━━━━━━━━━\u001b[0m\u001b[37m\u001b[0m \u001b[1m5s\u001b[0m 91ms/step - accuracy: 0.7119 - loss: 0.8203 - val_accuracy: 0.6713 - val_loss: 0.9281 - learning_rate: 0.0010\n",
      "Epoch 22/100\n",
      "\u001b[1m54/54\u001b[0m \u001b[32m━━━━━━━━━━━━━━━━━━━━\u001b[0m\u001b[37m\u001b[0m \u001b[1m5s\u001b[0m 91ms/step - accuracy: 0.7244 - loss: 0.7764 - val_accuracy: 0.6737 - val_loss: 0.9248 - learning_rate: 0.0010\n",
      "Epoch 23/100\n",
      "\u001b[1m54/54\u001b[0m \u001b[32m━━━━━━━━━━━━━━━━━━━━\u001b[0m\u001b[37m\u001b[0m \u001b[1m5s\u001b[0m 91ms/step - accuracy: 0.7332 - loss: 0.7547 - val_accuracy: 0.6702 - val_loss: 0.9337 - learning_rate: 0.0010\n",
      "Epoch 24/100\n",
      "\u001b[1m54/54\u001b[0m \u001b[32m━━━━━━━━━━━━━━━━━━━━\u001b[0m\u001b[37m\u001b[0m \u001b[1m5s\u001b[0m 91ms/step - accuracy: 0.7216 - loss: 0.7868 - val_accuracy: 0.6713 - val_loss: 0.9265 - learning_rate: 0.0010\n",
      "Epoch 25/100\n",
      "\u001b[1m54/54\u001b[0m \u001b[32m━━━━━━━━━━━━━━━━━━━━\u001b[0m\u001b[37m\u001b[0m \u001b[1m5s\u001b[0m 92ms/step - accuracy: 0.7173 - loss: 0.7478 - val_accuracy: 0.6842 - val_loss: 0.9331 - learning_rate: 0.0010\n",
      "Epoch 26/100\n",
      "\u001b[1m54/54\u001b[0m \u001b[32m━━━━━━━━━━━━━━━━━━━━\u001b[0m\u001b[37m\u001b[0m \u001b[1m0s\u001b[0m 85ms/step - accuracy: 0.7514 - loss: 0.6809\n",
      "Epoch 26: ReduceLROnPlateau reducing learning rate to 0.0005000000237487257.\n",
      "\u001b[1m54/54\u001b[0m \u001b[32m━━━━━━━━━━━━━━━━━━━━\u001b[0m\u001b[37m\u001b[0m \u001b[1m5s\u001b[0m 92ms/step - accuracy: 0.7515 - loss: 0.6808 - val_accuracy: 0.6690 - val_loss: 0.9704 - learning_rate: 0.0010\n",
      "Epoch 27/100\n",
      "\u001b[1m54/54\u001b[0m \u001b[32m━━━━━━━━━━━━━━━━━━━━\u001b[0m\u001b[37m\u001b[0m \u001b[1m5s\u001b[0m 92ms/step - accuracy: 0.7814 - loss: 0.6105 - val_accuracy: 0.6830 - val_loss: 0.8797 - learning_rate: 5.0000e-04\n",
      "Epoch 28/100\n",
      "\u001b[1m54/54\u001b[0m \u001b[32m━━━━━━━━━━━━━━━━━━━━\u001b[0m\u001b[37m\u001b[0m \u001b[1m5s\u001b[0m 93ms/step - accuracy: 0.7763 - loss: 0.6163 - val_accuracy: 0.6947 - val_loss: 0.9008 - learning_rate: 5.0000e-04\n",
      "Epoch 29/100\n",
      "\u001b[1m54/54\u001b[0m \u001b[32m━━━━━━━━━━━━━━━━━━━━\u001b[0m\u001b[37m\u001b[0m \u001b[1m5s\u001b[0m 96ms/step - accuracy: 0.7814 - loss: 0.5870 - val_accuracy: 0.7099 - val_loss: 0.8710 - learning_rate: 5.0000e-04\n",
      "Epoch 30/100\n",
      "\u001b[1m54/54\u001b[0m \u001b[32m━━━━━━━━━━━━━━━━━━━━\u001b[0m\u001b[37m\u001b[0m \u001b[1m5s\u001b[0m 93ms/step - accuracy: 0.8128 - loss: 0.5510 - val_accuracy: 0.7123 - val_loss: 0.8325 - learning_rate: 5.0000e-04\n",
      "Epoch 31/100\n",
      "\u001b[1m54/54\u001b[0m \u001b[32m━━━━━━━━━━━━━━━━━━━━\u001b[0m\u001b[37m\u001b[0m \u001b[1m5s\u001b[0m 94ms/step - accuracy: 0.8056 - loss: 0.5518 - val_accuracy: 0.7146 - val_loss: 0.8472 - learning_rate: 5.0000e-04\n",
      "Epoch 32/100\n",
      "\u001b[1m54/54\u001b[0m \u001b[32m━━━━━━━━━━━━━━━━━━━━\u001b[0m\u001b[37m\u001b[0m \u001b[1m5s\u001b[0m 93ms/step - accuracy: 0.8106 - loss: 0.5474 - val_accuracy: 0.7064 - val_loss: 0.8493 - learning_rate: 5.0000e-04\n",
      "Epoch 33/100\n",
      "\u001b[1m54/54\u001b[0m \u001b[32m━━━━━━━━━━━━━━━━━━━━\u001b[0m\u001b[37m\u001b[0m \u001b[1m5s\u001b[0m 91ms/step - accuracy: 0.8222 - loss: 0.4965 - val_accuracy: 0.7123 - val_loss: 0.8411 - learning_rate: 5.0000e-04\n",
      "Epoch 34/100\n",
      "\u001b[1m54/54\u001b[0m \u001b[32m━━━━━━━━━━━━━━━━━━━━\u001b[0m\u001b[37m\u001b[0m \u001b[1m0s\u001b[0m 85ms/step - accuracy: 0.8203 - loss: 0.5251\n",
      "Epoch 34: ReduceLROnPlateau reducing learning rate to 0.0002500000118743628.\n",
      "\u001b[1m54/54\u001b[0m \u001b[32m━━━━━━━━━━━━━━━━━━━━\u001b[0m\u001b[37m\u001b[0m \u001b[1m5s\u001b[0m 92ms/step - accuracy: 0.8203 - loss: 0.5250 - val_accuracy: 0.7181 - val_loss: 0.8461 - learning_rate: 5.0000e-04\n",
      "Epoch 35/100\n",
      "\u001b[1m54/54\u001b[0m \u001b[32m━━━━━━━━━━━━━━━━━━━━\u001b[0m\u001b[37m\u001b[0m \u001b[1m5s\u001b[0m 91ms/step - accuracy: 0.8192 - loss: 0.4789 - val_accuracy: 0.7181 - val_loss: 0.8517 - learning_rate: 2.5000e-04\n",
      "Epoch 36/100\n",
      "\u001b[1m54/54\u001b[0m \u001b[32m━━━━━━━━━━━━━━━━━━━━\u001b[0m\u001b[37m\u001b[0m \u001b[1m5s\u001b[0m 90ms/step - accuracy: 0.8252 - loss: 0.4668 - val_accuracy: 0.7158 - val_loss: 0.8538 - learning_rate: 2.5000e-04\n",
      "Epoch 37/100\n",
      "\u001b[1m54/54\u001b[0m \u001b[32m━━━━━━━━━━━━━━━━━━━━\u001b[0m\u001b[37m\u001b[0m \u001b[1m5s\u001b[0m 90ms/step - accuracy: 0.8477 - loss: 0.4458 - val_accuracy: 0.7123 - val_loss: 0.8506 - learning_rate: 2.5000e-04\n",
      "Epoch 38/100\n",
      "\u001b[1m54/54\u001b[0m \u001b[32m━━━━━━━━━━━━━━━━━━━━\u001b[0m\u001b[37m\u001b[0m \u001b[1m0s\u001b[0m 84ms/step - accuracy: 0.8372 - loss: 0.4560\n",
      "Epoch 38: ReduceLROnPlateau reducing learning rate to 0.0001250000059371814.\n",
      "\u001b[1m54/54\u001b[0m \u001b[32m━━━━━━━━━━━━━━━━━━━━\u001b[0m\u001b[37m\u001b[0m \u001b[1m5s\u001b[0m 91ms/step - accuracy: 0.8373 - loss: 0.4559 - val_accuracy: 0.7088 - val_loss: 0.8680 - learning_rate: 2.5000e-04\n",
      "Epoch 39/100\n",
      "\u001b[1m54/54\u001b[0m \u001b[32m━━━━━━━━━━━━━━━━━━━━\u001b[0m\u001b[37m\u001b[0m \u001b[1m5s\u001b[0m 91ms/step - accuracy: 0.8464 - loss: 0.4422 - val_accuracy: 0.7135 - val_loss: 0.8690 - learning_rate: 1.2500e-04\n",
      "Epoch 40/100\n",
      "\u001b[1m54/54\u001b[0m \u001b[32m━━━━━━━━━━━━━━━━━━━━\u001b[0m\u001b[37m\u001b[0m \u001b[1m5s\u001b[0m 92ms/step - accuracy: 0.8449 - loss: 0.4372 - val_accuracy: 0.7135 - val_loss: 0.8760 - learning_rate: 1.2500e-04\n",
      "Epoch 41/100\n",
      "\u001b[1m54/54\u001b[0m \u001b[32m━━━━━━━━━━━━━━━━━━━━\u001b[0m\u001b[37m\u001b[0m \u001b[1m5s\u001b[0m 92ms/step - accuracy: 0.8548 - loss: 0.4207 - val_accuracy: 0.7146 - val_loss: 0.8904 - learning_rate: 1.2500e-04\n",
      "Epoch 42/100\n",
      "\u001b[1m54/54\u001b[0m \u001b[32m━━━━━━━━━━━━━━━━━━━━\u001b[0m\u001b[37m\u001b[0m \u001b[1m0s\u001b[0m 86ms/step - accuracy: 0.8625 - loss: 0.4212\n",
      "Epoch 42: ReduceLROnPlateau reducing learning rate to 6.25000029685907e-05.\n",
      "\u001b[1m54/54\u001b[0m \u001b[32m━━━━━━━━━━━━━━━━━━━━\u001b[0m\u001b[37m\u001b[0m \u001b[1m5s\u001b[0m 94ms/step - accuracy: 0.8625 - loss: 0.4212 - val_accuracy: 0.7240 - val_loss: 0.8896 - learning_rate: 1.2500e-04\n",
      "Epoch 43/100\n",
      "\u001b[1m54/54\u001b[0m \u001b[32m━━━━━━━━━━━━━━━━━━━━\u001b[0m\u001b[37m\u001b[0m \u001b[1m5s\u001b[0m 90ms/step - accuracy: 0.8450 - loss: 0.4252 - val_accuracy: 0.7170 - val_loss: 0.9120 - learning_rate: 6.2500e-05\n",
      "Epoch 44/100\n",
      "\u001b[1m54/54\u001b[0m \u001b[32m━━━━━━━━━━━━━━━━━━━━\u001b[0m\u001b[37m\u001b[0m \u001b[1m5s\u001b[0m 89ms/step - accuracy: 0.8499 - loss: 0.4132 - val_accuracy: 0.7228 - val_loss: 0.8870 - learning_rate: 6.2500e-05\n",
      "Epoch 45/100\n",
      "\u001b[1m54/54\u001b[0m \u001b[32m━━━━━━━━━━━━━━━━━━━━\u001b[0m\u001b[37m\u001b[0m \u001b[1m5s\u001b[0m 91ms/step - accuracy: 0.8505 - loss: 0.4319 - val_accuracy: 0.7216 - val_loss: 0.9047 - learning_rate: 6.2500e-05\n",
      "Epoch 46/100\n",
      "\u001b[1m54/54\u001b[0m \u001b[32m━━━━━━━━━━━━━━━━━━━━\u001b[0m\u001b[37m\u001b[0m \u001b[1m0s\u001b[0m 84ms/step - accuracy: 0.8586 - loss: 0.4123\n",
      "Epoch 46: ReduceLROnPlateau reducing learning rate to 3.125000148429535e-05.\n",
      "\u001b[1m54/54\u001b[0m \u001b[32m━━━━━━━━━━━━━━━━━━━━\u001b[0m\u001b[37m\u001b[0m \u001b[1m5s\u001b[0m 91ms/step - accuracy: 0.8587 - loss: 0.4121 - val_accuracy: 0.7275 - val_loss: 0.8879 - learning_rate: 6.2500e-05\n",
      "Epoch 47/100\n",
      "\u001b[1m54/54\u001b[0m \u001b[32m━━━━━━━━━━━━━━━━━━━━\u001b[0m\u001b[37m\u001b[0m \u001b[1m5s\u001b[0m 92ms/step - accuracy: 0.8587 - loss: 0.4090 - val_accuracy: 0.7263 - val_loss: 0.8979 - learning_rate: 3.1250e-05\n",
      "Epoch 48/100\n",
      "\u001b[1m54/54\u001b[0m \u001b[32m━━━━━━━━━━━━━━━━━━━━\u001b[0m\u001b[37m\u001b[0m \u001b[1m5s\u001b[0m 90ms/step - accuracy: 0.8437 - loss: 0.4257 - val_accuracy: 0.7251 - val_loss: 0.9050 - learning_rate: 3.1250e-05\n",
      "Epoch 49/100\n",
      "\u001b[1m54/54\u001b[0m \u001b[32m━━━━━━━━━━━━━━━━━━━━\u001b[0m\u001b[37m\u001b[0m \u001b[1m5s\u001b[0m 91ms/step - accuracy: 0.8652 - loss: 0.4111 - val_accuracy: 0.7216 - val_loss: 0.8865 - learning_rate: 3.1250e-05\n",
      "Epoch 50/100\n",
      "\u001b[1m54/54\u001b[0m \u001b[32m━━━━━━━━━━━━━━━━━━━━\u001b[0m\u001b[37m\u001b[0m \u001b[1m0s\u001b[0m 84ms/step - accuracy: 0.8696 - loss: 0.3949\n",
      "Epoch 50: ReduceLROnPlateau reducing learning rate to 1.5625000742147677e-05.\n",
      "\u001b[1m54/54\u001b[0m \u001b[32m━━━━━━━━━━━━━━━━━━━━\u001b[0m\u001b[37m\u001b[0m \u001b[1m5s\u001b[0m 91ms/step - accuracy: 0.8697 - loss: 0.3947 - val_accuracy: 0.7251 - val_loss: 0.8948 - learning_rate: 3.1250e-05\n",
      "Epoch 51/100\n",
      "\u001b[1m54/54\u001b[0m \u001b[32m━━━━━━━━━━━━━━━━━━━━\u001b[0m\u001b[37m\u001b[0m \u001b[1m5s\u001b[0m 92ms/step - accuracy: 0.8615 - loss: 0.4006 - val_accuracy: 0.7263 - val_loss: 0.8899 - learning_rate: 1.5625e-05\n",
      "Epoch 52/100\n",
      "\u001b[1m54/54\u001b[0m \u001b[32m━━━━━━━━━━━━━━━━━━━━\u001b[0m\u001b[37m\u001b[0m \u001b[1m5s\u001b[0m 91ms/step - accuracy: 0.8676 - loss: 0.3807 - val_accuracy: 0.7251 - val_loss: 0.8950 - learning_rate: 1.5625e-05\n",
      "Epoch 53/100\n",
      "\u001b[1m54/54\u001b[0m \u001b[32m━━━━━━━━━━━━━━━━━━━━\u001b[0m\u001b[37m\u001b[0m \u001b[1m5s\u001b[0m 92ms/step - accuracy: 0.8725 - loss: 0.3894 - val_accuracy: 0.7275 - val_loss: 0.8902 - learning_rate: 1.5625e-05\n",
      "Epoch 54/100\n",
      "\u001b[1m54/54\u001b[0m \u001b[32m━━━━━━━━━━━━━━━━━━━━\u001b[0m\u001b[37m\u001b[0m \u001b[1m0s\u001b[0m 85ms/step - accuracy: 0.8604 - loss: 0.4011\n",
      "Epoch 54: ReduceLROnPlateau reducing learning rate to 7.812500371073838e-06.\n",
      "\u001b[1m54/54\u001b[0m \u001b[32m━━━━━━━━━━━━━━━━━━━━\u001b[0m\u001b[37m\u001b[0m \u001b[1m5s\u001b[0m 93ms/step - accuracy: 0.8605 - loss: 0.4009 - val_accuracy: 0.7251 - val_loss: 0.8965 - learning_rate: 1.5625e-05\n",
      "Epoch 55/100\n",
      "\u001b[1m54/54\u001b[0m \u001b[32m━━━━━━━━━━━━━━━━━━━━\u001b[0m\u001b[37m\u001b[0m \u001b[1m5s\u001b[0m 94ms/step - accuracy: 0.8635 - loss: 0.3826 - val_accuracy: 0.7275 - val_loss: 0.8928 - learning_rate: 7.8125e-06\n",
      "Epoch 56/100\n",
      "\u001b[1m54/54\u001b[0m \u001b[32m━━━━━━━━━━━━━━━━━━━━\u001b[0m\u001b[37m\u001b[0m \u001b[1m5s\u001b[0m 91ms/step - accuracy: 0.8681 - loss: 0.3930 - val_accuracy: 0.7275 - val_loss: 0.8915 - learning_rate: 7.8125e-06\n",
      "Epoch 57/100\n",
      "\u001b[1m54/54\u001b[0m \u001b[32m━━━━━━━━━━━━━━━━━━━━\u001b[0m\u001b[37m\u001b[0m \u001b[1m5s\u001b[0m 90ms/step - accuracy: 0.8643 - loss: 0.4066 - val_accuracy: 0.7287 - val_loss: 0.8936 - learning_rate: 7.8125e-06\n",
      "Epoch 58/100\n",
      "\u001b[1m54/54\u001b[0m \u001b[32m━━━━━━━━━━━━━━━━━━━━\u001b[0m\u001b[37m\u001b[0m \u001b[1m0s\u001b[0m 84ms/step - accuracy: 0.8563 - loss: 0.4077\n",
      "Epoch 58: ReduceLROnPlateau reducing learning rate to 3.906250185536919e-06.\n",
      "\u001b[1m54/54\u001b[0m \u001b[32m━━━━━━━━━━━━━━━━━━━━\u001b[0m\u001b[37m\u001b[0m \u001b[1m5s\u001b[0m 91ms/step - accuracy: 0.8565 - loss: 0.4073 - val_accuracy: 0.7275 - val_loss: 0.8929 - learning_rate: 7.8125e-06\n",
      "Epoch 59/100\n",
      "\u001b[1m54/54\u001b[0m \u001b[32m━━━━━━━━━━━━━━━━━━━━\u001b[0m\u001b[37m\u001b[0m \u001b[1m5s\u001b[0m 89ms/step - accuracy: 0.8653 - loss: 0.3853 - val_accuracy: 0.7251 - val_loss: 0.8942 - learning_rate: 3.9063e-06\n",
      "Epoch 60/100\n",
      "\u001b[1m54/54\u001b[0m \u001b[32m━━━━━━━━━━━━━━━━━━━━\u001b[0m\u001b[37m\u001b[0m \u001b[1m5s\u001b[0m 90ms/step - accuracy: 0.8628 - loss: 0.4017 - val_accuracy: 0.7251 - val_loss: 0.8960 - learning_rate: 3.9063e-06\n",
      "Epoch 61/100\n",
      "\u001b[1m54/54\u001b[0m \u001b[32m━━━━━━━━━━━━━━━━━━━━\u001b[0m\u001b[37m\u001b[0m \u001b[1m5s\u001b[0m 89ms/step - accuracy: 0.8590 - loss: 0.4004 - val_accuracy: 0.7240 - val_loss: 0.8940 - learning_rate: 3.9063e-06\n",
      "Epoch 62/100\n",
      "\u001b[1m54/54\u001b[0m \u001b[32m━━━━━━━━━━━━━━━━━━━━\u001b[0m\u001b[37m\u001b[0m \u001b[1m0s\u001b[0m 82ms/step - accuracy: 0.8722 - loss: 0.3947\n",
      "Epoch 62: ReduceLROnPlateau reducing learning rate to 1.9531250927684596e-06.\n",
      "\u001b[1m54/54\u001b[0m \u001b[32m━━━━━━━━━━━━━━━━━━━━\u001b[0m\u001b[37m\u001b[0m \u001b[1m5s\u001b[0m 89ms/step - accuracy: 0.8723 - loss: 0.3945 - val_accuracy: 0.7251 - val_loss: 0.8943 - learning_rate: 3.9063e-06\n",
      "Epoch 63/100\n",
      "\u001b[1m54/54\u001b[0m \u001b[32m━━━━━━━━━━━━━━━━━━━━\u001b[0m\u001b[37m\u001b[0m \u001b[1m5s\u001b[0m 90ms/step - accuracy: 0.8681 - loss: 0.3942 - val_accuracy: 0.7251 - val_loss: 0.8937 - learning_rate: 1.9531e-06\n",
      "Epoch 64/100\n",
      "\u001b[1m54/54\u001b[0m \u001b[32m━━━━━━━━━━━━━━━━━━━━\u001b[0m\u001b[37m\u001b[0m \u001b[1m5s\u001b[0m 92ms/step - accuracy: 0.8614 - loss: 0.3997 - val_accuracy: 0.7251 - val_loss: 0.8939 - learning_rate: 1.9531e-06\n",
      "Epoch 65/100\n",
      "\u001b[1m54/54\u001b[0m \u001b[32m━━━━━━━━━━━━━━━━━━━━\u001b[0m\u001b[37m\u001b[0m \u001b[1m5s\u001b[0m 89ms/step - accuracy: 0.8633 - loss: 0.4011 - val_accuracy: 0.7240 - val_loss: 0.8945 - learning_rate: 1.9531e-06\n",
      "Epoch 66/100\n",
      "\u001b[1m54/54\u001b[0m \u001b[32m━━━━━━━━━━━━━━━━━━━━\u001b[0m\u001b[37m\u001b[0m \u001b[1m0s\u001b[0m 84ms/step - accuracy: 0.8640 - loss: 0.4036\n",
      "Epoch 66: ReduceLROnPlateau reducing learning rate to 9.765625463842298e-07.\n",
      "\u001b[1m54/54\u001b[0m \u001b[32m━━━━━━━━━━━━━━━━━━━━\u001b[0m\u001b[37m\u001b[0m \u001b[1m5s\u001b[0m 91ms/step - accuracy: 0.8640 - loss: 0.4035 - val_accuracy: 0.7251 - val_loss: 0.8938 - learning_rate: 1.9531e-06\n",
      "Epoch 67/100\n",
      "\u001b[1m54/54\u001b[0m \u001b[32m━━━━━━━━━━━━━━━━━━━━\u001b[0m\u001b[37m\u001b[0m \u001b[1m5s\u001b[0m 90ms/step - accuracy: 0.8701 - loss: 0.3942 - val_accuracy: 0.7251 - val_loss: 0.8932 - learning_rate: 9.7656e-07\n",
      "Epoch 68/100\n",
      "\u001b[1m54/54\u001b[0m \u001b[32m━━━━━━━━━━━━━━━━━━━━\u001b[0m\u001b[37m\u001b[0m \u001b[1m5s\u001b[0m 89ms/step - accuracy: 0.8674 - loss: 0.3931 - val_accuracy: 0.7251 - val_loss: 0.8925 - learning_rate: 9.7656e-07\n",
      "Epoch 69/100\n",
      "\u001b[1m54/54\u001b[0m \u001b[32m━━━━━━━━━━━━━━━━━━━━\u001b[0m\u001b[37m\u001b[0m \u001b[1m5s\u001b[0m 90ms/step - accuracy: 0.8731 - loss: 0.3807 - val_accuracy: 0.7263 - val_loss: 0.8933 - learning_rate: 9.7656e-07\n",
      "Epoch 70/100\n",
      "\u001b[1m54/54\u001b[0m \u001b[32m━━━━━━━━━━━━━━━━━━━━\u001b[0m\u001b[37m\u001b[0m \u001b[1m0s\u001b[0m 83ms/step - accuracy: 0.8606 - loss: 0.3910\n",
      "Epoch 70: ReduceLROnPlateau reducing learning rate to 4.882812731921149e-07.\n",
      "\u001b[1m54/54\u001b[0m \u001b[32m━━━━━━━━━━━━━━━━━━━━\u001b[0m\u001b[37m\u001b[0m \u001b[1m5s\u001b[0m 90ms/step - accuracy: 0.8608 - loss: 0.3909 - val_accuracy: 0.7275 - val_loss: 0.8939 - learning_rate: 9.7656e-07\n",
      "Epoch 71/100\n",
      "\u001b[1m54/54\u001b[0m \u001b[32m━━━━━━━━━━━━━━━━━━━━\u001b[0m\u001b[37m\u001b[0m \u001b[1m5s\u001b[0m 89ms/step - accuracy: 0.8647 - loss: 0.3972 - val_accuracy: 0.7275 - val_loss: 0.8937 - learning_rate: 4.8828e-07\n",
      "Epoch 72/100\n",
      "\u001b[1m54/54\u001b[0m \u001b[32m━━━━━━━━━━━━━━━━━━━━\u001b[0m\u001b[37m\u001b[0m \u001b[1m5s\u001b[0m 90ms/step - accuracy: 0.8663 - loss: 0.3805 - val_accuracy: 0.7251 - val_loss: 0.8936 - learning_rate: 4.8828e-07\n",
      "Epoch 73/100\n",
      "\u001b[1m54/54\u001b[0m \u001b[32m━━━━━━━━━━━━━━━━━━━━\u001b[0m\u001b[37m\u001b[0m \u001b[1m5s\u001b[0m 92ms/step - accuracy: 0.8772 - loss: 0.3879 - val_accuracy: 0.7251 - val_loss: 0.8939 - learning_rate: 4.8828e-07\n",
      "Epoch 74/100\n",
      "\u001b[1m54/54\u001b[0m \u001b[32m━━━━━━━━━━━━━━━━━━━━\u001b[0m\u001b[37m\u001b[0m \u001b[1m0s\u001b[0m 84ms/step - accuracy: 0.8624 - loss: 0.4021\n",
      "Epoch 74: ReduceLROnPlateau reducing learning rate to 2.4414063659605745e-07.\n",
      "\u001b[1m54/54\u001b[0m \u001b[32m━━━━━━━━━━━━━━━━━━━━\u001b[0m\u001b[37m\u001b[0m \u001b[1m5s\u001b[0m 91ms/step - accuracy: 0.8624 - loss: 0.4021 - val_accuracy: 0.7251 - val_loss: 0.8940 - learning_rate: 4.8828e-07\n",
      "Epoch 75/100\n",
      "\u001b[1m54/54\u001b[0m \u001b[32m━━━━━━━━━━━━━━━━━━━━\u001b[0m\u001b[37m\u001b[0m \u001b[1m5s\u001b[0m 90ms/step - accuracy: 0.8673 - loss: 0.3806 - val_accuracy: 0.7263 - val_loss: 0.8941 - learning_rate: 2.4414e-07\n",
      "Epoch 76/100\n",
      "\u001b[1m54/54\u001b[0m \u001b[32m━━━━━━━━━━━━━━━━━━━━\u001b[0m\u001b[37m\u001b[0m \u001b[1m5s\u001b[0m 90ms/step - accuracy: 0.8632 - loss: 0.3867 - val_accuracy: 0.7263 - val_loss: 0.8940 - learning_rate: 2.4414e-07\n",
      "Epoch 77/100\n",
      "\u001b[1m54/54\u001b[0m \u001b[32m━━━━━━━━━━━━━━━━━━━━\u001b[0m\u001b[37m\u001b[0m \u001b[1m5s\u001b[0m 90ms/step - accuracy: 0.8729 - loss: 0.3883 - val_accuracy: 0.7263 - val_loss: 0.8941 - learning_rate: 2.4414e-07\n",
      "Epoch 78/100\n",
      "\u001b[1m54/54\u001b[0m \u001b[32m━━━━━━━━━━━━━━━━━━━━\u001b[0m\u001b[37m\u001b[0m \u001b[1m0s\u001b[0m 82ms/step - accuracy: 0.8707 - loss: 0.3888\n",
      "Epoch 78: ReduceLROnPlateau reducing learning rate to 1.2207031829802872e-07.\n",
      "\u001b[1m54/54\u001b[0m \u001b[32m━━━━━━━━━━━━━━━━━━━━\u001b[0m\u001b[37m\u001b[0m \u001b[1m5s\u001b[0m 89ms/step - accuracy: 0.8708 - loss: 0.3887 - val_accuracy: 0.7263 - val_loss: 0.8941 - learning_rate: 2.4414e-07\n",
      "Epoch 79/100\n",
      "\u001b[1m54/54\u001b[0m \u001b[32m━━━━━━━━━━━━━━━━━━━━\u001b[0m\u001b[37m\u001b[0m \u001b[1m5s\u001b[0m 90ms/step - accuracy: 0.8542 - loss: 0.4110 - val_accuracy: 0.7263 - val_loss: 0.8941 - learning_rate: 1.2207e-07\n",
      "Epoch 80/100\n",
      "\u001b[1m54/54\u001b[0m \u001b[32m━━━━━━━━━━━━━━━━━━━━\u001b[0m\u001b[37m\u001b[0m \u001b[1m5s\u001b[0m 89ms/step - accuracy: 0.8642 - loss: 0.3982 - val_accuracy: 0.7263 - val_loss: 0.8941 - learning_rate: 1.2207e-07\n",
      "Epoch 81/100\n",
      "\u001b[1m54/54\u001b[0m \u001b[32m━━━━━━━━━━━━━━━━━━━━\u001b[0m\u001b[37m\u001b[0m \u001b[1m5s\u001b[0m 90ms/step - accuracy: 0.8593 - loss: 0.3923 - val_accuracy: 0.7263 - val_loss: 0.8941 - learning_rate: 1.2207e-07\n",
      "Epoch 82/100\n",
      "\u001b[1m54/54\u001b[0m \u001b[32m━━━━━━━━━━━━━━━━━━━━\u001b[0m\u001b[37m\u001b[0m \u001b[1m0s\u001b[0m 83ms/step - accuracy: 0.8686 - loss: 0.3893\n",
      "Epoch 82: ReduceLROnPlateau reducing learning rate to 1e-07.\n",
      "\u001b[1m54/54\u001b[0m \u001b[32m━━━━━━━━━━━━━━━━━━━━\u001b[0m\u001b[37m\u001b[0m \u001b[1m5s\u001b[0m 90ms/step - accuracy: 0.8686 - loss: 0.3893 - val_accuracy: 0.7263 - val_loss: 0.8941 - learning_rate: 1.2207e-07\n",
      "Epoch 83/100\n",
      "\u001b[1m54/54\u001b[0m \u001b[32m━━━━━━━━━━━━━━━━━━━━\u001b[0m\u001b[37m\u001b[0m \u001b[1m5s\u001b[0m 91ms/step - accuracy: 0.8601 - loss: 0.4021 - val_accuracy: 0.7263 - val_loss: 0.8941 - learning_rate: 1.0000e-07\n",
      "Epoch 84/100\n",
      "\u001b[1m54/54\u001b[0m \u001b[32m━━━━━━━━━━━━━━━━━━━━\u001b[0m\u001b[37m\u001b[0m \u001b[1m5s\u001b[0m 90ms/step - accuracy: 0.8616 - loss: 0.4045 - val_accuracy: 0.7263 - val_loss: 0.8941 - learning_rate: 1.0000e-07\n",
      "Epoch 85/100\n",
      "\u001b[1m54/54\u001b[0m \u001b[32m━━━━━━━━━━━━━━━━━━━━\u001b[0m\u001b[37m\u001b[0m \u001b[1m5s\u001b[0m 89ms/step - accuracy: 0.8634 - loss: 0.3841 - val_accuracy: 0.7263 - val_loss: 0.8940 - learning_rate: 1.0000e-07\n",
      "Epoch 86/100\n",
      "\u001b[1m54/54\u001b[0m \u001b[32m━━━━━━━━━━━━━━━━━━━━\u001b[0m\u001b[37m\u001b[0m \u001b[1m5s\u001b[0m 90ms/step - accuracy: 0.8654 - loss: 0.3987 - val_accuracy: 0.7263 - val_loss: 0.8940 - learning_rate: 1.0000e-07\n",
      "Epoch 87/100\n",
      "\u001b[1m54/54\u001b[0m \u001b[32m━━━━━━━━━━━━━━━━━━━━\u001b[0m\u001b[37m\u001b[0m \u001b[1m5s\u001b[0m 91ms/step - accuracy: 0.8699 - loss: 0.3873 - val_accuracy: 0.7263 - val_loss: 0.8940 - learning_rate: 1.0000e-07\n",
      "Epoch 88/100\n",
      "\u001b[1m54/54\u001b[0m \u001b[32m━━━━━━━━━━━━━━━━━━━━\u001b[0m\u001b[37m\u001b[0m \u001b[1m5s\u001b[0m 90ms/step - accuracy: 0.8740 - loss: 0.3971 - val_accuracy: 0.7263 - val_loss: 0.8940 - learning_rate: 1.0000e-07\n",
      "Epoch 89/100\n",
      "\u001b[1m54/54\u001b[0m \u001b[32m━━━━━━━━━━━━━━━━━━━━\u001b[0m\u001b[37m\u001b[0m \u001b[1m5s\u001b[0m 89ms/step - accuracy: 0.8627 - loss: 0.3954 - val_accuracy: 0.7263 - val_loss: 0.8940 - learning_rate: 1.0000e-07\n",
      "Epoch 90/100\n",
      "\u001b[1m54/54\u001b[0m \u001b[32m━━━━━━━━━━━━━━━━━━━━\u001b[0m\u001b[37m\u001b[0m \u001b[1m5s\u001b[0m 90ms/step - accuracy: 0.8669 - loss: 0.3843 - val_accuracy: 0.7263 - val_loss: 0.8939 - learning_rate: 1.0000e-07\n",
      "Epoch 91/100\n",
      "\u001b[1m54/54\u001b[0m \u001b[32m━━━━━━━━━━━━━━━━━━━━\u001b[0m\u001b[37m\u001b[0m \u001b[1m5s\u001b[0m 90ms/step - accuracy: 0.8698 - loss: 0.3796 - val_accuracy: 0.7263 - val_loss: 0.8939 - learning_rate: 1.0000e-07\n",
      "Epoch 92/100\n",
      "\u001b[1m54/54\u001b[0m \u001b[32m━━━━━━━━━━━━━━━━━━━━\u001b[0m\u001b[37m\u001b[0m \u001b[1m5s\u001b[0m 90ms/step - accuracy: 0.8533 - loss: 0.3978 - val_accuracy: 0.7275 - val_loss: 0.8939 - learning_rate: 1.0000e-07\n",
      "Epoch 93/100\n",
      "\u001b[1m54/54\u001b[0m \u001b[32m━━━━━━━━━━━━━━━━━━━━\u001b[0m\u001b[37m\u001b[0m \u001b[1m5s\u001b[0m 90ms/step - accuracy: 0.8666 - loss: 0.3948 - val_accuracy: 0.7275 - val_loss: 0.8939 - learning_rate: 1.0000e-07\n",
      "Epoch 94/100\n",
      "\u001b[1m54/54\u001b[0m \u001b[32m━━━━━━━━━━━━━━━━━━━━\u001b[0m\u001b[37m\u001b[0m \u001b[1m5s\u001b[0m 91ms/step - accuracy: 0.8621 - loss: 0.3843 - val_accuracy: 0.7263 - val_loss: 0.8939 - learning_rate: 1.0000e-07\n",
      "Epoch 95/100\n",
      "\u001b[1m54/54\u001b[0m \u001b[32m━━━━━━━━━━━━━━━━━━━━\u001b[0m\u001b[37m\u001b[0m \u001b[1m5s\u001b[0m 91ms/step - accuracy: 0.8662 - loss: 0.3827 - val_accuracy: 0.7263 - val_loss: 0.8939 - learning_rate: 1.0000e-07\n",
      "Epoch 96/100\n",
      "\u001b[1m54/54\u001b[0m \u001b[32m━━━━━━━━━━━━━━━━━━━━\u001b[0m\u001b[37m\u001b[0m \u001b[1m5s\u001b[0m 91ms/step - accuracy: 0.8625 - loss: 0.3995 - val_accuracy: 0.7263 - val_loss: 0.8939 - learning_rate: 1.0000e-07\n",
      "Epoch 97/100\n",
      "\u001b[1m54/54\u001b[0m \u001b[32m━━━━━━━━━━━━━━━━━━━━\u001b[0m\u001b[37m\u001b[0m \u001b[1m5s\u001b[0m 91ms/step - accuracy: 0.8679 - loss: 0.3786 - val_accuracy: 0.7263 - val_loss: 0.8939 - learning_rate: 1.0000e-07\n",
      "Epoch 98/100\n",
      "\u001b[1m54/54\u001b[0m \u001b[32m━━━━━━━━━━━━━━━━━━━━\u001b[0m\u001b[37m\u001b[0m \u001b[1m5s\u001b[0m 91ms/step - accuracy: 0.8590 - loss: 0.3955 - val_accuracy: 0.7263 - val_loss: 0.8939 - learning_rate: 1.0000e-07\n",
      "Epoch 99/100\n",
      "\u001b[1m54/54\u001b[0m \u001b[32m━━━━━━━━━━━━━━━━━━━━\u001b[0m\u001b[37m\u001b[0m \u001b[1m5s\u001b[0m 91ms/step - accuracy: 0.8668 - loss: 0.3870 - val_accuracy: 0.7263 - val_loss: 0.8939 - learning_rate: 1.0000e-07\n",
      "Epoch 100/100\n",
      "\u001b[1m54/54\u001b[0m \u001b[32m━━━━━━━━━━━━━━━━━━━━\u001b[0m\u001b[37m\u001b[0m \u001b[1m5s\u001b[0m 92ms/step - accuracy: 0.8651 - loss: 0.4005 - val_accuracy: 0.7263 - val_loss: 0.8940 - learning_rate: 1.0000e-07\n"
     ]
    }
   ],
   "source": [
    "model.compile(optimizer='adam',\n",
    "              loss = 'categorical_crossentropy',\n",
    "              metrics=['accuracy'])\n",
    "\n",
    "rlrp = ReduceLROnPlateau(monitor='val_loss', factor=0.5, verbose=1, patience=4, min_lr=0.0000001)\n",
    "\n",
    "epochs = 100\n",
    "history = model.fit(x_train, y_train, batch_size=64, epochs=epochs, validation_data=(x_test, y_test), callbacks=[rlrp])"
   ]
  },
  {
   "cell_type": "markdown",
   "id": "5cab60d6-e8f7-4877-897d-f7a360dca71b",
   "metadata": {},
   "source": [
    "## Evaludation"
   ]
  },
  {
   "cell_type": "code",
   "execution_count": 146,
   "id": "231cbcff-e120-4d7d-8220-998d23572cfd",
   "metadata": {},
   "outputs": [
    {
     "name": "stdout",
     "output_type": "stream",
     "text": [
      "\u001b[1m27/27\u001b[0m \u001b[32m━━━━━━━━━━━━━━━━━━━━\u001b[0m\u001b[37m\u001b[0m \u001b[1m9s\u001b[0m 191ms/step\n"
     ]
    }
   ],
   "source": [
    "y_pred = model.predict(x_test)"
   ]
  },
  {
   "cell_type": "code",
   "execution_count": 149,
   "id": "e4f2f99b-0191-4fd9-b6e7-4821d47a23df",
   "metadata": {},
   "outputs": [],
   "source": [
    "y_pred_labels = np.argmax(y_pred, axis=1)\n",
    "y_test_labels = np.argmax(y_test, axis=1)"
   ]
  },
  {
   "cell_type": "code",
   "execution_count": 153,
   "id": "fe3eef2f-86ac-4d91-bb72-453d0e5bc162",
   "metadata": {},
   "outputs": [
    {
     "name": "stdout",
     "output_type": "stream",
     "text": [
      "              precision    recall  f1-score   support\n",
      "\n",
      "           0       0.78      0.83      0.81       109\n",
      "           1       0.84      0.79      0.81       118\n",
      "           2       0.67      0.79      0.73       107\n",
      "           3       0.66      0.65      0.65       109\n",
      "           4       0.82      0.64      0.72       128\n",
      "           5       0.60      0.75      0.67        57\n",
      "           6       0.64      0.63      0.63       103\n",
      "           7       0.76      0.73      0.75       124\n",
      "\n",
      "    accuracy                           0.73       855\n",
      "   macro avg       0.72      0.73      0.72       855\n",
      "weighted avg       0.73      0.73      0.73       855\n",
      "\n"
     ]
    }
   ],
   "source": [
    "print(classification_report(y_test_labels, y_pred_labels))"
   ]
  },
  {
   "cell_type": "code",
   "execution_count": 169,
   "id": "a303231c-85d7-43bf-ac6c-2971ae300e76",
   "metadata": {},
   "outputs": [],
   "source": [
    "cm = confusion_matrix(y_test_labels, y_pred_labels)"
   ]
  },
  {
   "cell_type": "code",
   "execution_count": 172,
   "id": "f06388e6-6a3f-475a-9a2b-d83c81d1eba7",
   "metadata": {},
   "outputs": [
    {
     "data": {
      "text/plain": [
       "<Axes: >"
      ]
     },
     "execution_count": 172,
     "metadata": {},
     "output_type": "execute_result"
    },
    {
     "data": {
      "image/png": "[encoded data removed]",
      "text/plain": [
       "<Figure size 640x480 with 2 Axes>"
      ]
     },
     "metadata": {},
     "output_type": "display_data"
    }
   ],
   "source": [
    "labels = encoder.categories_[0]\n",
    "\n",
    "sns.heatmap(cm, annot=True, fmt=\"d\", xticklabels=labels, yticklabels=labels)"
   ]
  },
  {
   "cell_type": "code",
   "execution_count": null,
   "id": "e59218e4-67cc-4eeb-9a14-3cd6c96d35d3",
   "metadata": {},
   "outputs": [],
   "source": []
  }
 ],
 "metadata": {
  "kernelspec": {
   "display_name": "Python 3",
   "language": "python",
   "name": "python3"
  },
  "language_info": {
   "codemirror_mode": {
    "name": "ipython",
    "version": 3
   },
   "file_extension": ".py",
   "mimetype": "text/x-python",
   "name": "python",
   "nbconvert_exporter": "python",
   "pygments_lexer": "ipython3",
   "version": "3.10.10"
  }
 },
 "nbformat": 4,
 "nbformat_minor": 5
}
